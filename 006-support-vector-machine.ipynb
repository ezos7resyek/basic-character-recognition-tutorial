{
 "cells": [
  {
   "cell_type": "markdown",
   "metadata": {},
   "source": [
    "# Support Vector Machines\n",
    "Support vector machines (SVMs) are a set of supervised learning methods used for classification, regression and outliers detection.\n",
    "\n",
    "**The advantages of support vector machines are:**\n",
    "\n",
    "- Effective in high dimensional spaces.  \n",
    "- Still effective in cases where number of dimensions is greater than the number of samples.  \n",
    "- Uses a subset of training points in the decision function (called support vectors), so it is also memory efficient.  \n",
    "\n",
    "*Versatile*: different Kernel functions can be specified for the decision function. Common kernels are provided, but it is also possible to specify custom kernels.\n",
    "\n",
    "**The disadvantages of support vector machines include:**\n",
    "\n",
    "- If the number of features is much greater than the number of samples, avoid over-fitting in choosing Kernel functions and regularization term is crucial.\n",
    "- SVMs do not directly provide probability estimates, these are calculated using an expensive five-fold cross-validation\n"
   ]
  },
  {
   "cell_type": "code",
   "execution_count": 1,
   "metadata": {},
   "outputs": [
    {
     "name": "stdout",
     "output_type": "stream",
     "text": [
      "('Size of the feature vector', (978, 785))\n",
      "[[ 6.  1.  1. ...,  1.  1.  1.]\n",
      " [ 6.  1.  1. ...,  1.  1.  1.]\n",
      " [ 6.  1.  1. ...,  1.  1.  1.]\n",
      " ..., \n",
      " [ 6.  1.  1. ...,  1.  1.  1.]\n",
      " [ 6.  1.  1. ...,  1.  1.  1.]\n",
      " [ 6.  1.  1. ...,  1.  1.  1.]]\n"
     ]
    }
   ],
   "source": [
    "import numpy as np\n",
    "\n",
    "# global variable\n",
    "global img_number\n",
    "img_number = 550\n",
    "\n",
    "output_filename = 'digit_fv.train'\n",
    "digit_data = np.loadtxt(output_filename, dtype='float64')\n",
    "\n",
    "print(\"Size of the feature vector\", digit_data.shape)\n",
    "print digit_data[0:10,0:]"
   ]
  },
  {
   "cell_type": "code",
   "execution_count": 3,
   "metadata": {},
   "outputs": [],
   "source": [
    "import math\n",
    "from skimage import io\n",
    "\n",
    "# show image\n",
    "def vec2img(vec):\n",
    "    \n",
    "    img_row = int(math.sqrt(vec.shape[0]))\n",
    "    img_col = img_row\n",
    "    img = vec.reshape((img_row, img_col))\n",
    "    \n",
    "    io.imshow(img)\n",
    "    io.show()\n",
    "    \n",
    "# check predict\n",
    "def chkpredict(actual_class, predict_class):\n",
    "    if(actual_class==predict_class):\n",
    "        print(\"(Correct prediction)\")\n",
    "    else:\n",
    "        print(\"(Incorrect prediction)\")"
   ]
  },
  {
   "cell_type": "code",
   "execution_count": 4,
   "metadata": {},
   "outputs": [
    {
     "data": {
      "image/png": "[encoded data removed]",
      "text/plain": [
       "<matplotlib.figure.Figure at 0x7f1c052ee910>"
      ]
     },
     "metadata": {},
     "output_type": "display_data"
    }
   ],
   "source": [
    "# show image\n",
    "vec2img(digit_data[img_number,1:])"
   ]
  },
  {
   "cell_type": "code",
   "execution_count": 6,
   "metadata": {},
   "outputs": [
    {
     "data": {
      "text/plain": [
       "SVC(C=1.0, cache_size=200, class_weight=None, coef0=0.0,\n",
       "  decision_function_shape=None, degree=3, gamma='auto', kernel='rbf',\n",
       "  max_iter=-1, probability=False, random_state=None, shrinking=True,\n",
       "  tol=0.001, verbose=False)"
      ]
     },
     "execution_count": 6,
     "metadata": {},
     "output_type": "execute_result"
    }
   ],
   "source": [
    "from sklearn import svm\n",
    "\n",
    "X = digit_data[:,1:]\n",
    "y = digit_data[:,0]\n",
    "\n",
    "# create SVM model\n",
    "clf_svm = svm.SVC()\n",
    "clf_svm.fit(X,y)"
   ]
  },
  {
   "cell_type": "code",
   "execution_count": 9,
   "metadata": {},
   "outputs": [
    {
     "name": "stdout",
     "output_type": "stream",
     "text": [
      "Training set score: 1.000000\n"
     ]
    }
   ],
   "source": [
    "print(\"Training set score: %f\" % clf_svm.score(X, y))"
   ]
  },
  {
   "cell_type": "code",
   "execution_count": 10,
   "metadata": {},
   "outputs": [
    {
     "name": "stdout",
     "output_type": "stream",
     "text": [
      "('Actual', 2.0)\n",
      "('Predict', array([ 2.]))\n",
      "(Correct prediction)\n"
     ]
    }
   ],
   "source": [
    "# Prediction\n",
    "\n",
    "print(\"Actual\", y[img_number])\n",
    "predict_class = clf_svm.predict([X[img_number,:]])\n",
    "print(\"Predict\", predict_class)\n",
    "chkpredict(y[img_number], predict_class)"
   ]
  },
  {
   "cell_type": "markdown",
   "metadata": {},
   "source": [
    "## RBF SVM parameters\n",
    "This example illustrates the effect of the parameters ```gamma``` and ```C``` of the Radial Basis Function (RBF) kernel SVM.  \n",
    "\n",
    "Intuitively, the ```gamma``` parameter defines how far the influence of a single training example reaches, with low values meaning ‘far’ and high values meaning ‘close’. The ```gamma``` parameters can be seen as the inverse of the radius of influence of samples selected by the model as support vectors.\n",
    "\n",
    "The ```C``` parameter trades off misclassification of training examples against simplicity of the decision surface. A low ```C``` makes the decision surface smooth, while a high ```C``` aims at classifying all training examples correctly by giving the model freedom to select more samples as support vectors.  \n",
    "\n",
    "useful link: http://scikit-learn.org/stable/auto_examples/svm/plot_rbf_parameters.html"
   ]
  },
  {
   "cell_type": "code",
   "execution_count": 32,
   "metadata": {},
   "outputs": [
    {
     "name": "stdout",
     "output_type": "stream",
     "text": [
      "The best parameters are {'C': 10000000000.0, 'gamma': 1.0000000000000001e-09} with a score of 1.00\n",
      "Model with rank: 1\n",
      "Mean validation score: 1.000 (std: 0.000)\n",
      "Parameters: {'C': 10000000000.0, 'gamma': 1.0000000000000001e-09}\n",
      "\n",
      "Model with rank: 2\n",
      "Mean validation score: 0.996 (std: 0.004)\n",
      "Parameters: {'C': 100.0, 'gamma': 1000.0}\n",
      "\n",
      "Model with rank: 2\n",
      "Mean validation score: 0.996 (std: 0.004)\n",
      "Parameters: {'C': 10000000000.0, 'gamma': 1000.0}\n",
      "\n"
     ]
    }
   ],
   "source": [
    "import numpy as np\n",
    "import matplotlib.pyplot as plt\n",
    "from matplotlib.colors import Normalize\n",
    "\n",
    "from sklearn.svm import SVC\n",
    "from sklearn.preprocessing import StandardScaler\n",
    "from sklearn.datasets import load_iris\n",
    "from sklearn.model_selection import StratifiedShuffleSplit\n",
    "from sklearn.model_selection import GridSearchCV\n",
    "\n",
    "\n",
    "# Utility function to report best scores\n",
    "def report(results, n_top=3):\n",
    "    for i in range(1, n_top + 1):\n",
    "        candidates = np.flatnonzero(results['rank_test_score'] == i)\n",
    "        for candidate in candidates:\n",
    "            print(\"Model with rank: {0}\".format(i))\n",
    "            print(\"Mean validation score: {0:.3f} (std: {1:.3f})\".format(\n",
    "                  results['mean_test_score'][candidate],\n",
    "                  results['std_test_score'][candidate]))\n",
    "            print(\"Parameters: {0}\".format(results['params'][candidate]))\n",
    "            print(\"\")\n",
    "            \n",
    "            \n",
    "# It is usually a good idea to scale the data for SVM training.\n",
    "scaler = StandardScaler()\n",
    "X = scaler.fit_transform(X)\n",
    "\n",
    "\n",
    "# #############################################################################\n",
    "# Train classifiers\n",
    "#\n",
    "# For an initial search, a logarithmic grid with basis\n",
    "# 10 is often helpful. Using a basis of 2, a finer\n",
    "# tuning can be achieved but at a much higher cost.\n",
    "\n",
    "C_range = np.logspace(2, 10, 2)\n",
    "gamma_range = np.logspace(-9, 3, 2)\n",
    "param_grid = dict(gamma=gamma_range, C=C_range)\n",
    "\n",
    "cv = StratifiedShuffleSplit(n_splits=5, test_size=0.2, random_state=42)\n",
    "grid = GridSearchCV(SVC(), param_grid=param_grid, cv=cv)\n",
    "grid.fit(X, y)\n",
    "\n",
    "print(\"The best parameters are %s with a score of %0.2f\"\n",
    "      % (grid.best_params_, grid.best_score_))\n",
    "report(grid.cv_results_)"
   ]
  },
  {
   "cell_type": "code",
   "execution_count": 15,
   "metadata": {},
   "outputs": [
    {
     "name": "stdout",
     "output_type": "stream",
     "text": [
      "[  1.00000000e-02   1.00000000e+10]\n",
      "[  1.00000000e-09   1.00000000e+03]\n"
     ]
    }
   ],
   "source": [
    "C_range = np.logspace(-2, 10, 2)\n",
    "gamma_range = np.logspace(-9, 3, 2)\n",
    "\n",
    "print C_range\n",
    "print gamma_range"
   ]
  },
  {
   "cell_type": "markdown",
   "metadata": {},
   "source": [
    "## linear kernel "
   ]
  },
  {
   "cell_type": "code",
   "execution_count": 31,
   "metadata": {},
   "outputs": [
    {
     "name": "stdout",
     "output_type": "stream",
     "text": [
      "The best parameters are {'kernel': 'linear', 'C': 100.0} with a score of 1.00\n",
      "Model with rank: 1\n",
      "Mean validation score: 1.000 (std: 0.000)\n",
      "Parameters: {'kernel': 'linear', 'C': 100.0}\n",
      "\n",
      "Model with rank: 1\n",
      "Mean validation score: 1.000 (std: 0.000)\n",
      "Parameters: {'kernel': 'linear', 'C': 10000.0}\n",
      "\n",
      "Model with rank: 1\n",
      "Mean validation score: 1.000 (std: 0.000)\n",
      "Parameters: {'kernel': 'linear', 'C': 1000000.0}\n",
      "\n",
      "Model with rank: 1\n",
      "Mean validation score: 1.000 (std: 0.000)\n",
      "Parameters: {'kernel': 'linear', 'C': 100000000.0}\n",
      "\n",
      "Model with rank: 1\n",
      "Mean validation score: 1.000 (std: 0.000)\n",
      "Parameters: {'kernel': 'linear', 'C': 10000000000.0}\n",
      "\n"
     ]
    }
   ],
   "source": [
    "C_range = np.logspace(2, 10, 5)\n",
    "param_grid = dict(C=C_range, kernel=['linear'])\n",
    "\n",
    "cv = StratifiedShuffleSplit(n_splits=5, test_size=0.2, random_state=42)\n",
    "grid = GridSearchCV(SVC(), param_grid=param_grid, cv=cv)\n",
    "grid.fit(X, y)\n",
    "\n",
    "print(\"The best parameters are %s with a score of %0.2f\"\n",
    "      % (grid.best_params_, grid.best_score_))\n",
    "report(grid.cv_results_)"
   ]
  },
  {
   "cell_type": "code",
   "execution_count": null,
   "metadata": {},
   "outputs": [],
   "source": []
  }
 ],
 "metadata": {
  "kernelspec": {
   "display_name": "Python 2",
   "language": "python",
   "name": "python2"
  },
  "language_info": {
   "codemirror_mode": {
    "name": "ipython",
    "version": 2
   },
   "file_extension": ".py",
   "mimetype": "text/x-python",
   "name": "python",
   "nbconvert_exporter": "python",
   "pygments_lexer": "ipython2",
   "version": "2.7.12"
  }
 },
 "nbformat": 4,
 "nbformat_minor": 2
}
