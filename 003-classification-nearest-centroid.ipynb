{
 "cells": [
  {
   "cell_type": "markdown",
   "metadata": {},
   "source": [
    "# Nearest Centroid Classifier\n",
    "The ```NearestCentroid``` classifier is a simple algorithm that represents each class by the centroid of its members. In effect, this makes it similar to the label updating phase of the ```sklearn.KMeans``` algorithm. It also has no parameters to choose, making it a good baseline classifier\n",
    "\n",
    "\n",
    "useful link: http://scikit-learn.org/stable/modules/neighbors.html"
   ]
  },
  {
   "cell_type": "code",
   "execution_count": 38,
   "metadata": {},
   "outputs": [
    {
     "name": "stdout",
     "output_type": "stream",
     "text": [
      "('Size of the feature vector', (978, 785))\n",
      "[[ 6.  1.  1. ...,  1.  1.  1.]\n",
      " [ 6.  1.  1. ...,  1.  1.  1.]\n",
      " [ 6.  1.  1. ...,  1.  1.  1.]\n",
      " ..., \n",
      " [ 6.  1.  1. ...,  1.  1.  1.]\n",
      " [ 6.  1.  1. ...,  1.  1.  1.]\n",
      " [ 6.  1.  1. ...,  1.  1.  1.]]\n"
     ]
    }
   ],
   "source": [
    "import numpy as np\n",
    "\n",
    "# global variable\n",
    "global img_number\n",
    "img_number = 700\n",
    "\n",
    "output_filename = 'digit_fv.train'\n",
    "digit_data = np.loadtxt(output_filename, dtype='float64')\n",
    "\n",
    "print(\"Size of the feature vector\", digit_data.shape)\n",
    "print digit_data[0:10,0:]"
   ]
  },
  {
   "cell_type": "code",
   "execution_count": 39,
   "metadata": {},
   "outputs": [],
   "source": [
    "import math\n",
    "from skimage import io\n",
    "\n",
    "# show image\n",
    "def vec2img(vec):\n",
    "    \n",
    "    img_row = int(math.sqrt(vec.shape[0]))\n",
    "    img_col = img_row\n",
    "    img = vec.reshape((img_row, img_col))\n",
    "    \n",
    "    io.imshow(img)\n",
    "    io.show()\n",
    "    \n",
    "# check predict\n",
    "def chkpredict(actual_class, predict_class):\n",
    "    if(actual_class==predict_class):\n",
    "        print(\"(Correct prediction)\")\n",
    "    else:\n",
    "        print(\"(Incorrect prediction)\")"
   ]
  },
  {
   "cell_type": "code",
   "execution_count": 40,
   "metadata": {},
   "outputs": [
    {
     "data": {
      "image/png": "[encoded data removed]",
      "text/plain": [
       "<matplotlib.figure.Figure at 0x7fdd77192410>"
      ]
     },
     "metadata": {},
     "output_type": "display_data"
    }
   ],
   "source": [
    "# show image\n",
    "vec2img(digit_data[img_number,1:])"
   ]
  },
  {
   "cell_type": "code",
   "execution_count": 41,
   "metadata": {},
   "outputs": [
    {
     "name": "stdout",
     "output_type": "stream",
     "text": [
      "('Size of feature vector', (978, 784))\n",
      "('Size of label', (978,))\n",
      "('Actual', 8.0)\n",
      "('Predict', array([ 8.]))\n",
      "(Correct prediction)\n"
     ]
    }
   ],
   "source": [
    "from sklearn.neighbors.nearest_centroid import NearestCentroid\n",
    "import numpy as np\n",
    "\n",
    "X = digit_data[:,1:]\n",
    "y = digit_data[:,0]\n",
    "\n",
    "print(\"Size of feature vector\", X.shape)\n",
    "print(\"Size of label\", y.shape)\n",
    "\n",
    "# create a model\n",
    "clf = NearestCentroid()\n",
    "clf.fit(X, y)\n",
    "\n",
    "print(\"Actual\", y[img_number])\n",
    "predict_class = clf.predict([X[img_number,:]])\n",
    "print(\"Predict\", predict_class)\n",
    "chkpredict(y[img_number], predict_class)"
   ]
  },
  {
   "cell_type": "markdown",
   "metadata": {},
   "source": [
    "# Nearest Neighbors Classification\n",
    "Neighbors-based classification is a type of *instance-based learning* or *non-generalizing learning*: it does not attempt to construct a general internal model, but simply stores instances of the training data. Classification is computed from a simple majority vote of the nearest neighbors of each point: a query point is assigned the data class which has the most representatives within the nearest neighbors of the point.\n",
    "\n",
    "The k-neighbors classification in ```KNeighborsClassifier``` is the more commonly used of the two techniques. The optimal choice of the value k is highly data-dependent: in general a larger k suppresses the effects of noise, but makes the classification boundaries less distinct.\n",
    "\n",
    "useful link: http://scikit-learn.org/stable/modules/neighbors.html#neighbors"
   ]
  },
  {
   "cell_type": "code",
   "execution_count": 42,
   "metadata": {},
   "outputs": [
    {
     "name": "stdout",
     "output_type": "stream",
     "text": [
      "('Actual', 8.0)\n",
      "('Predict', array([ 8.]))\n",
      "(Correct prediction)\n"
     ]
    }
   ],
   "source": [
    "# KNN\n",
    "from sklearn import neighbors\n",
    "\n",
    "# Classifier implementing the k-nearest neighbors vote.\n",
    "knn = neighbors.KNeighborsClassifier()    \n",
    "    # default: n_neighbors=5, weights='uniform'\n",
    "\n",
    "# we create an instance of Neighbours Classifier and fit the data.\n",
    "knn.fit(X, y)\n",
    "\n",
    "print(\"Actual\", y[img_number])\n",
    "predict_class = knn.predict([X[img_number,:]])\n",
    "print(\"Predict\", predict_class)\n",
    "chkpredict(y[img_number], predict_class)"
   ]
  },
  {
   "cell_type": "code",
   "execution_count": 43,
   "metadata": {},
   "outputs": [
    {
     "name": "stdout",
     "output_type": "stream",
     "text": [
      "('Actual', 8.0)\n",
      "('Predict', array([ 8.]))\n",
      "(Correct prediction)\n"
     ]
    }
   ],
   "source": [
    "# KNN\n",
    "from sklearn import neighbors\n",
    "\n",
    "# Classifier implementing the k-nearest neighbors vote.\n",
    "knn = neighbors.KNeighborsClassifier(n_neighbors=3, weights='distance')\n",
    "\n",
    "# we create an instance of Neighbours Classifier and fit the data.\n",
    "knn.fit(X, y)\n",
    "\n",
    "print(\"Actual\", y[img_number])\n",
    "predict_class = knn.predict([X[img_number,:]])\n",
    "print(\"Predict\", predict_class)\n",
    "chkpredict(y[img_number], predict_class)"
   ]
  },
  {
   "cell_type": "code",
   "execution_count": null,
   "metadata": {},
   "outputs": [],
   "source": []
  }
 ],
 "metadata": {
  "kernelspec": {
   "display_name": "Python 2",
   "language": "python",
   "name": "python2"
  },
  "language_info": {
   "codemirror_mode": {
    "name": "ipython",
    "version": 2
   },
   "file_extension": ".py",
   "mimetype": "text/x-python",
   "name": "python",
   "nbconvert_exporter": "python",
   "pygments_lexer": "ipython2",
   "version": "2.7.12"
  }
 },
 "nbformat": 4,
 "nbformat_minor": 2
}
