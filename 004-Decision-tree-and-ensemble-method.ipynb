{
 "cells": [
  {
   "cell_type": "markdown",
   "metadata": {},
   "source": [
    "# Decision Tree"
   ]
  },
  {
   "cell_type": "code",
   "execution_count": 75,
   "metadata": {},
   "outputs": [],
   "source": [
    "# global variable\n",
    "global img_number\n",
    "img_number = 800"
   ]
  },
  {
   "cell_type": "code",
   "execution_count": 76,
   "metadata": {},
   "outputs": [
    {
     "name": "stdout",
     "output_type": "stream",
     "text": [
      "('Size of the feature vector', (978, 785))\n",
      "[[ 6.  1.  1. ...,  1.  1.  1.]\n",
      " [ 6.  1.  1. ...,  1.  1.  1.]\n",
      " [ 6.  1.  1. ...,  1.  1.  1.]\n",
      " ..., \n",
      " [ 6.  1.  1. ...,  1.  1.  1.]\n",
      " [ 6.  1.  1. ...,  1.  1.  1.]\n",
      " [ 6.  1.  1. ...,  1.  1.  1.]]\n"
     ]
    }
   ],
   "source": [
    "import numpy as np\n",
    "\n",
    "output_filename = 'digit_fv.train'\n",
    "digit_data = np.loadtxt(output_filename, dtype='float64')\n",
    "\n",
    "print(\"Size of the feature vector\", digit_data.shape)\n",
    "print digit_data[0:10,0:]"
   ]
  },
  {
   "cell_type": "code",
   "execution_count": 100,
   "metadata": {},
   "outputs": [],
   "source": [
    "import math\n",
    "from skimage import io\n",
    "\n",
    "# show image\n",
    "def vec2img(vec):\n",
    "    \n",
    "    img_row = int(math.sqrt(vec.shape[0]))\n",
    "    img_col = img_row\n",
    "    img = vec.reshape((img_row, img_col))\n",
    "    \n",
    "    io.imshow(img)\n",
    "    io.show()\n",
    "    \n",
    "# check predict\n",
    "def chkpredict(actual_class, predict_class):\n",
    "    if(actual_class==predict_class):\n",
    "        print(\"(Correct prediction)\")\n",
    "    else:\n",
    "        print(\"(Incorrect prediction)\")"
   ]
  },
  {
   "cell_type": "code",
   "execution_count": 82,
   "metadata": {},
   "outputs": [
    {
     "data": {
      "image/png": "[encoded data removed]",
      "text/plain": [
       "<matplotlib.figure.Figure at 0x7f24b5489e10>"
      ]
     },
     "metadata": {},
     "output_type": "display_data"
    }
   ],
   "source": [
    "# show image\n",
    "vec2img(digit_data[img_number,1:])"
   ]
  },
  {
   "cell_type": "code",
   "execution_count": 101,
   "metadata": {},
   "outputs": [
    {
     "name": "stdout",
     "output_type": "stream",
     "text": [
      "('Size of feature vector', (978, 784))\n",
      "('Size of label', (978,))\n",
      "('Actual', 4.0)\n",
      "('Predict', array([ 4.]))\n",
      "(Correct prediction)\n"
     ]
    }
   ],
   "source": [
    "from sklearn.tree import DecisionTreeClassifier\n",
    "\n",
    "X = digit_data[:,1:]\n",
    "y = digit_data[:,0]\n",
    "\n",
    "print(\"Size of feature vector\", X.shape)\n",
    "print(\"Size of label\", y.shape)\n",
    "\n",
    "# create a model\n",
    "clf_tree = DecisionTreeClassifier(max_depth=4)\n",
    "clf_tree.fit(X,y)\n",
    "\n",
    "print(\"Actual\", y[img_number])\n",
    "predict_class = clf_forest.predict([X[img_number,:]])\n",
    "print(\"Predict\", predict_class)\n",
    "chkpredict(y[img_number], predict_class)"
   ]
  },
  {
   "cell_type": "markdown",
   "metadata": {},
   "source": [
    "# Ensemble method\n",
    "The goal of ensemble methods is to combine the predictions of several base estimators built with a given learning algorithm in order to improve generalizability / robustness over a single estimator."
   ]
  },
  {
   "cell_type": "code",
   "execution_count": 103,
   "metadata": {},
   "outputs": [
    {
     "name": "stdout",
     "output_type": "stream",
     "text": [
      "('Actual', 4.0)\n",
      "('Predict', array([ 4.]))\n",
      "(Correct prediction)\n"
     ]
    }
   ],
   "source": [
    "# Random Forest\n",
    "\n",
    "from sklearn.ensemble import RandomForestClassifier\n",
    "\n",
    "X = digit_data[:,1:]\n",
    "y = digit_data[:,0]\n",
    "\n",
    "clf_forest = RandomForestClassifier(n_estimators=10)\n",
    "clf_forest = clf_forest.fit(X, y)\n",
    "\n",
    "print(\"Actual\", y[img_number])\n",
    "predict_class = clf_forest.predict([X[img_number,:]])\n",
    "print(\"Predict\", predict_class)\n",
    "chkpredict(y[img_number], predict_class)"
   ]
  },
  {
   "cell_type": "code",
   "execution_count": 102,
   "metadata": {},
   "outputs": [
    {
     "name": "stdout",
     "output_type": "stream",
     "text": [
      "('Actual', 4.0)\n",
      "('Predict', array([ 4.]))\n",
      "(Correct prediction)\n"
     ]
    }
   ],
   "source": [
    "# AdaBoost classifier \n",
    "# with 100 weak learners:\n",
    "\n",
    "from sklearn.ensemble import AdaBoostClassifier\n",
    "\n",
    "X = digit_data[:,1:]\n",
    "y = digit_data[:,0]\n",
    "\n",
    "clf_ada = AdaBoostClassifier(n_estimators=100)\n",
    "clf_ada = clf_ada.fit(X, y)\n",
    "\n",
    "print(\"Actual\", y[img_number])\n",
    "predict_class = clf_forest.predict([X[img_number,:]])\n",
    "print(\"Predict\", predict_class)\n",
    "chkpredict(y[img_number], predict_class)"
   ]
  },
  {
   "cell_type": "markdown",
   "metadata": {},
   "source": [
    "## Voting method"
   ]
  },
  {
   "cell_type": "code",
   "execution_count": 104,
   "metadata": {},
   "outputs": [
    {
     "name": "stdout",
     "output_type": "stream",
     "text": [
      "('Actual', 4.0)\n",
      "('Predict', array([ 4.]))\n",
      "(Correct prediction)\n"
     ]
    }
   ],
   "source": [
    "from sklearn.ensemble import VotingClassifier\n",
    "\n",
    "X = digit_data[:,1:]\n",
    "y = digit_data[:,0]\n",
    "\n",
    "eclf = VotingClassifier(estimators=[('dt', clf_tree), ('rf', clf_forest),\n",
    "                                    ('ad', clf_ada)],\n",
    "                        voting='soft', weights=[2, 1, 2])\n",
    "\n",
    "eclf.fit(X, y)\n",
    "\n",
    "print(\"Actual\", y[img_number])\n",
    "predict_class = clf_forest.predict([X[img_number,:]])\n",
    "print(\"Predict\", predict_class)\n",
    "chkpredict(y[img_number], predict_class)"
   ]
  }
 ],
 "metadata": {
  "kernelspec": {
   "display_name": "Python 2",
   "language": "python",
   "name": "python2"
  },
  "language_info": {
   "codemirror_mode": {
    "name": "ipython",
    "version": 2
   },
   "file_extension": ".py",
   "mimetype": "text/x-python",
   "name": "python",
   "nbconvert_exporter": "python",
   "pygments_lexer": "ipython2",
   "version": "2.7.12"
  }
 },
 "nbformat": 4,
 "nbformat_minor": 2
}
