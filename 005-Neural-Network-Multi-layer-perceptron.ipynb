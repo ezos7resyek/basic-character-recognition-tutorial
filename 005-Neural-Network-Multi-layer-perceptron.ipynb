{
 "cells": [
  {
   "cell_type": "markdown",
   "metadata": {},
   "source": [
    "# Neural Network - Multi-layer Perceptron (MLP)\n",
    "\n",
    "useful link: http://scikit-learn.org/stable/modules/generated/sklearn.neural_network.MLPClassifier.html#sklearn.neural_network.MLPClassifier  \n",
    "http://scikit-learn.org/stable/modules/neural_networks_supervised.html"
   ]
  },
  {
   "cell_type": "code",
   "execution_count": 1,
   "metadata": {},
   "outputs": [
    {
     "name": "stdout",
     "output_type": "stream",
     "text": [
      "('Size of the feature vector', (978, 785))\n",
      "[[ 6.  1.  1. ...,  1.  1.  1.]\n",
      " [ 6.  1.  1. ...,  1.  1.  1.]\n",
      " [ 6.  1.  1. ...,  1.  1.  1.]\n",
      " ..., \n",
      " [ 6.  1.  1. ...,  1.  1.  1.]\n",
      " [ 6.  1.  1. ...,  1.  1.  1.]\n",
      " [ 6.  1.  1. ...,  1.  1.  1.]]\n"
     ]
    }
   ],
   "source": [
    "import numpy as np\n",
    "\n",
    "# global variable\n",
    "global img_number\n",
    "img_number = 550\n",
    "\n",
    "output_filename = 'digit_fv.train'\n",
    "digit_data = np.loadtxt(output_filename, dtype='float64')\n",
    "\n",
    "print(\"Size of the feature vector\", digit_data.shape)\n",
    "print digit_data[0:10,0:]"
   ]
  },
  {
   "cell_type": "code",
   "execution_count": 2,
   "metadata": {},
   "outputs": [],
   "source": [
    "import math\n",
    "from skimage import io\n",
    "\n",
    "# show image\n",
    "def vec2img(vec):\n",
    "    \n",
    "    img_row = int(math.sqrt(vec.shape[0]))\n",
    "    img_col = img_row\n",
    "    img = vec.reshape((img_row, img_col))\n",
    "    \n",
    "    io.imshow(img)\n",
    "    io.show()\n",
    "    \n",
    "# check predict\n",
    "def chkpredict(actual_class, predict_class):\n",
    "    if(actual_class==predict_class):\n",
    "        print(\"(Correct prediction)\")\n",
    "    else:\n",
    "        print(\"(Incorrect prediction)\")"
   ]
  },
  {
   "cell_type": "code",
   "execution_count": 3,
   "metadata": {},
   "outputs": [
    {
     "data": {
      "image/png": "[encoded data removed]",
      "text/plain": [
       "<matplotlib.figure.Figure at 0x7f6fdc0acc90>"
      ]
     },
     "metadata": {},
     "output_type": "display_data"
    }
   ],
   "source": [
    "# show image\n",
    "vec2img(digit_data[img_number,1:])"
   ]
  },
  {
   "cell_type": "code",
   "execution_count": 4,
   "metadata": {},
   "outputs": [
    {
     "name": "stderr",
     "output_type": "stream",
     "text": [
      "/usr/local/lib/python2.7/dist-packages/sklearn/neural_network/multilayer_perceptron.py:563: ConvergenceWarning: Stochastic Optimizer: Maximum iterations reached and the optimization hasn't converged yet.\n",
      "  % (), ConvergenceWarning)\n"
     ]
    },
    {
     "data": {
      "text/plain": [
       "MLPClassifier(activation='relu', alpha=1, batch_size='auto', beta_1=0.9,\n",
       "       beta_2=0.999, early_stopping=False, epsilon=1e-08,\n",
       "       hidden_layer_sizes=(15, 30), learning_rate='constant',\n",
       "       learning_rate_init=0.001, max_iter=20, momentum=0.9,\n",
       "       nesterovs_momentum=True, power_t=0.5, random_state=None,\n",
       "       shuffle=True, solver='adam', tol=0.0001, validation_fraction=0.1,\n",
       "       verbose=False, warm_start=False)"
      ]
     },
     "execution_count": 4,
     "metadata": {},
     "output_type": "execute_result"
    }
   ],
   "source": [
    "from sklearn.neural_network import MLPClassifier\n",
    "\n",
    "X = digit_data[:,1:]\n",
    "y = digit_data[:,0]\n",
    "\n",
    "# create MLP model\n",
    "clf_mlp = MLPClassifier(alpha=1, hidden_layer_sizes=(15,30), max_iter=20, verbose=False)\n",
    "clf_mlp.fit(X,y)"
   ]
  },
  {
   "cell_type": "code",
   "execution_count": 5,
   "metadata": {},
   "outputs": [
    {
     "name": "stdout",
     "output_type": "stream",
     "text": [
      "Training set score: 1.000000\n",
      "Training set loss: 0.212084\n"
     ]
    }
   ],
   "source": [
    "print(\"Training set score: %f\" % clf_mlp.score(X, y))\n",
    "print(\"Training set loss: %f\" % clf_mlp.loss_)"
   ]
  },
  {
   "cell_type": "code",
   "execution_count": 6,
   "metadata": {},
   "outputs": [
    {
     "name": "stdout",
     "output_type": "stream",
     "text": [
      "('Actual', 2.0)\n",
      "('Predict', array([ 2.]))\n",
      "(Correct prediction)\n"
     ]
    }
   ],
   "source": [
    "# Prediction\n",
    "\n",
    "print(\"Actual\", y[img_number])\n",
    "predict_class = clf_mlp.predict([X[img_number,:]])\n",
    "print(\"Predict\", predict_class)\n",
    "chkpredict(y[img_number], predict_class)"
   ]
  },
  {
   "cell_type": "markdown",
   "metadata": {},
   "source": [
    "# MLP"
   ]
  },
  {
   "cell_type": "code",
   "execution_count": 7,
   "metadata": {},
   "outputs": [
    {
     "name": "stdout",
     "output_type": "stream",
     "text": [
      "Confusion matrix\n",
      "[[100   0   0   0   0   0   0   0   0   0]\n",
      " [  0 100   0   0   0   0   0   0   0   0]\n",
      " [  0   0  84   0   0   0   0   0   0   0]\n",
      " [  0   0   0  91   0   0   0   0   0   0]\n",
      " [  0   0   0   0  93   0   0   0   0   0]\n",
      " [  0   0   0   0   0  92   0   0   0   0]\n",
      " [  0   0   0   0   0   0 109   0   0   0]\n",
      " [  0   0   0   0   0   0   0  94   0   0]\n",
      " [  0   0   0   0   0   0   0   0 101   0]\n",
      " [  0   0   0   0   0   0   0   0   0 114]]\n",
      "\n",
      "Accuracy score\n",
      "100.0\n",
      "\n",
      "Precision & Recall\n",
      "             precision    recall  f1-score   support\n",
      "\n",
      "        0.0       1.00      1.00      1.00       100\n",
      "        1.0       1.00      1.00      1.00       100\n",
      "        2.0       1.00      1.00      1.00        84\n",
      "        3.0       1.00      1.00      1.00        91\n",
      "        4.0       1.00      1.00      1.00        93\n",
      "        5.0       1.00      1.00      1.00        92\n",
      "        6.0       1.00      1.00      1.00       109\n",
      "        7.0       1.00      1.00      1.00        94\n",
      "        8.0       1.00      1.00      1.00       101\n",
      "        9.0       1.00      1.00      1.00       114\n",
      "\n",
      "avg / total       1.00      1.00      1.00       978\n",
      "\n"
     ]
    }
   ],
   "source": [
    "#link: https://www.kdnuggets.com/2016/10/beginners-guide-neural-networks-python-scikit-learn.html/2\n",
    "# Data Preprocessing\n",
    "from sklearn.neural_network import MLPClassifier\n",
    "from sklearn.preprocessing import StandardScaler\n",
    "from sklearn.metrics import classification_report, confusion_matrix, accuracy_score\n",
    "\n",
    "\n",
    "scaler = StandardScaler()\n",
    "\n",
    "X = digit_data[:,1:]\n",
    "y = digit_data[:,0]\n",
    "\n",
    "# Fit only to the training data\n",
    "scaler.fit(X)\n",
    "X_train = scaler.transform(X)\n",
    "\n",
    "mlp = MLPClassifier(hidden_layer_sizes=(30,30), max_iter=200)\n",
    "mlp.fit(X_train,y)\n",
    "\n",
    "# predict\n",
    "predictions = mlp.predict(X_train)\n",
    "\n",
    "# Predictions and Evaluation\n",
    "print(\"Confusion matrix\")\n",
    "print(confusion_matrix(y,predictions))\n",
    "print(\"\\nAccuracy score\")      \n",
    "print(accuracy_score(y,predictions)*100)\n",
    "print(\"\\nPrecision & Recall\")\n",
    "print(classification_report(y,predictions))"
   ]
  },
  {
   "cell_type": "code",
   "execution_count": 8,
   "metadata": {},
   "outputs": [
    {
     "name": "stdout",
     "output_type": "stream",
     "text": [
      "3\n",
      "784\n"
     ]
    }
   ],
   "source": [
    "# MLP Weight and biases\n",
    "\n",
    "#coefs_ is a list of weight matrices, where weight matrix at index i represents the weights between layer i and layer i+1.\n",
    "\n",
    "#intercepts_ is a list of bias vectors, where the vector at index i represents the bias values added to layer i+1.\n",
    "\n",
    "print len(mlp.coefs_)\n",
    "#print mlp.coefs_\n",
    "\n",
    "print len(mlp.coefs_[0])\n",
    "#mlp.intercepts_[0]"
   ]
  },
  {
   "cell_type": "code",
   "execution_count": 9,
   "metadata": {},
   "outputs": [
    {
     "data": {
      "image/png": "[encoded data removed]",
      "text/plain": [
       "<matplotlib.figure.Figure at 0x7f6fbb351310>"
      ]
     },
     "metadata": {},
     "output_type": "display_data"
    }
   ],
   "source": [
    "#http://scikit-learn.org/stable/auto_examples/neural_networks/plot_mnist_filters.html#sphx-glr-auto-examples-neural-networks-plot-mnist-filters-py\n",
    "import matplotlib.pyplot as plt\n",
    "from sklearn.neural_network import MLPClassifier\n",
    "\n",
    "fig, axes = plt.subplots(4, 4)\n",
    "# use global min / max to ensure all weights are shown on the same scale\n",
    "vmin, vmax = mlp.coefs_[0].min(), mlp.coefs_[0].max()\n",
    "for coef, ax in zip(mlp.coefs_[0].T, axes.ravel()):\n",
    "    ax.matshow(coef.reshape(28, 28), cmap=plt.cm.gray, vmin=.5 * vmin,\n",
    "               vmax=.5 * vmax)\n",
    "    ax.set_xticks(())\n",
    "    ax.set_yticks(())\n",
    "\n",
    "plt.show()"
   ]
  },
  {
   "cell_type": "markdown",
   "metadata": {},
   "source": [
    "# MLP parameters\n",
    "```\n",
    "    MLPClassifier(activation='relu', alpha=1, batch_size='auto', beta_1=0.9,  \n",
    "       beta_2=0.999, early_stopping=False, epsilon=1e-08,  \n",
    "       hidden_layer_sizes=(15, 30), learning_rate='constant',  \n",
    "       learning_rate_init=0.001, max_iter=20, momentum=0.9,  \n",
    "       nesterovs_momentum=True, power_t=0.5, random_state=None,  \n",
    "       shuffle=True, solver='adam', tol=0.0001, validation_fraction=0.1,  \n",
    "       verbose=False, warm_start=False)  \n",
    "```  \n",
    "\n",
    "grid search: http://scikit-learn.org/stable/auto_examples/model_selection/plot_randomized_search.html#sphx-glr-auto-examples-model-selection-plot-randomized-search-py  "
   ]
  },
  {
   "cell_type": "code",
   "execution_count": 14,
   "metadata": {},
   "outputs": [
    {
     "name": "stdout",
     "output_type": "stream",
     "text": [
      "The best parameters are {'learning_rate': 'invscaling', 'hidden_layer_sizes': (20,)} with a score of 1.00\n",
      "\n",
      "GridSearchCV took 12.61 seconds for 8 candidate parameter settings.\n",
      "Model with rank: 1\n",
      "Mean validation score: 1.000 (std: 0.000)\n",
      "Parameters: {'learning_rate': 'invscaling', 'hidden_layer_sizes': (20,)}\n",
      "\n",
      "Model with rank: 1\n",
      "Mean validation score: 1.000 (std: 0.000)\n",
      "Parameters: {'learning_rate': 'adaptive', 'hidden_layer_sizes': (20,)}\n",
      "\n",
      "Model with rank: 1\n",
      "Mean validation score: 1.000 (std: 0.000)\n",
      "Parameters: {'learning_rate': 'invscaling', 'hidden_layer_sizes': (10,)}\n",
      "\n"
     ]
    }
   ],
   "source": [
    "from sklearn.model_selection import GridSearchCV\n",
    "from sklearn.model_selection import RandomizedSearchCV\n",
    "from time import time\n",
    "\n",
    "# Utility function to report best scores\n",
    "def report(results, n_top=3):\n",
    "    for i in range(1, n_top + 1):\n",
    "        candidates = np.flatnonzero(results['rank_test_score'] == i)\n",
    "        for candidate in candidates:\n",
    "            print(\"Model with rank: {0}\".format(i))\n",
    "            print(\"Mean validation score: {0:.3f} (std: {1:.3f})\".format(\n",
    "                  results['mean_test_score'][candidate],\n",
    "                  results['std_test_score'][candidate]))\n",
    "            print(\"Parameters: {0}\".format(results['params'][candidate]))\n",
    "            print(\"\")\n",
    "            \n",
    "param_grid = {\"learning_rate\":[\"constant\", \"invscaling\", \"adaptive\", \"constant\"],\n",
    "              \"hidden_layer_sizes\": [(20,), (10,)]}\n",
    "              \n",
    "    \n",
    "# run grid search\n",
    "grid_search = GridSearchCV(mlp, param_grid=param_grid)\n",
    "start = time()\n",
    "grid_search.fit(X_train, y)\n",
    "\n",
    "print(\"The best parameters are %s with a score of %0.2f\"\n",
    "      % (grid_search.best_params_, grid_search.best_score_))\n",
    "print(\"\\nGridSearchCV took %.2f seconds for %d candidate parameter settings.\"\n",
    "      % (time() - start, len(grid_search.cv_results_['params'])))\n",
    "report(grid_search.cv_results_)"
   ]
  },
  {
   "cell_type": "code",
   "execution_count": 12,
   "metadata": {},
   "outputs": [
    {
     "name": "stdout",
     "output_type": "stream",
     "text": [
      "The best parameters are {'learning_rate': 'invscaling', 'hidden_layer_sizes': (20,)} with a score of 1.00\n",
      "\n",
      "RandomizedSearchCV took 7.16 seconds for 5 candidates parameter settings.\n",
      "Model with rank: 1\n",
      "Mean validation score: 1.000 (std: 0.000)\n",
      "Parameters: {'learning_rate': 'invscaling', 'hidden_layer_sizes': (20,)}\n",
      "\n",
      "Model with rank: 2\n",
      "Mean validation score: 0.985 (std: 0.022)\n",
      "Parameters: {'learning_rate': 'constant', 'hidden_layer_sizes': (20,)}\n",
      "\n",
      "Model with rank: 3\n",
      "Mean validation score: 0.970 (std: 0.042)\n",
      "Parameters: {'learning_rate': 'constant', 'hidden_layer_sizes': (20,)}\n",
      "\n"
     ]
    }
   ],
   "source": [
    "# run randomized search\n",
    "n_iter_search = 5\n",
    "random_search = RandomizedSearchCV(mlp, param_distributions=param_grid,\n",
    "                                   n_iter=n_iter_search)\n",
    "\n",
    "start = time()\n",
    "random_search.fit(X_train, y)\n",
    "print(\"The best parameters are %s with a score of %0.2f\"\n",
    "      % (random_search.best_params_, random_search.best_score_))\n",
    "print(\"\\nRandomizedSearchCV took %.2f seconds for %d candidates\"\n",
    "      \" parameter settings.\" % ((time() - start), n_iter_search))\n",
    "report(random_search.cv_results_)"
   ]
  },
  {
   "cell_type": "code",
   "execution_count": null,
   "metadata": {},
   "outputs": [],
   "source": []
  }
 ],
 "metadata": {
  "kernelspec": {
   "display_name": "Python 2",
   "language": "python",
   "name": "python2"
  },
  "language_info": {
   "codemirror_mode": {
    "name": "ipython",
    "version": 2
   },
   "file_extension": ".py",
   "mimetype": "text/x-python",
   "name": "python",
   "nbconvert_exporter": "python",
   "pygments_lexer": "ipython2",
   "version": "2.7.12"
  }
 },
 "nbformat": 4,
 "nbformat_minor": 2
}
